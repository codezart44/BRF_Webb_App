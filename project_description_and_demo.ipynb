{
 "cells": [
  {
   "cell_type": "markdown",
   "metadata": {},
   "source": [
    "## __Webbapplikation för Bostadsrättsförening__\n",
    "___\n",
    "\n",
    "#### DD1334, Databasteknologi\n",
    "Oskar Edén Wallberg, 20001114-6016, oskarew@ug.kth.se, @codezart44 (GitHub) <br>\n",
    "Alexander Emrik Karolin, 200221202-XXXX, alex??@ug.kth.se, @AlexEmrik (GitHub) <br>\n",
    "\n",
    "\n"
   ]
  },
  {
   "cell_type": "markdown",
   "metadata": {},
   "source": [
    "![WebbsiteInterface](./images/interface.png)"
   ]
  },
  {
   "cell_type": "markdown",
   "metadata": {},
   "source": [
    "### Beskrivning\n",
    "___\n",
    "Detta projekt fokuserar på säkerhet och inkorporerar krypteringstekniker i form av hashnings (blowfish-cyphern) samt saltning för att motverka \"brute-force\" attacker. <br>\n",
    "Projektet består av två stora delprojekt:\n",
    "- __Backend__ (_Server side_): Skriven i python och uppsatt med biblioteket Flask. Backend är i direkt kontakt med batabasen (SQLite3) och kommer genom API-anrop att kommunicera, extrahera och addera information till och från databasen på standardiserade sätt opåverkade av klientsidan. Där ingår även validering av datan och säkerhet från illvilliga användare. Bland annat ingår metoder (API-endpoints) för att registrera samt logga in från klientsidan. \n",
    "Huvudsakligt kod finns under: ```./backend/flask_server/routes/auth.py```\n",
    "\n",
    "- __Frontend__ (_Client side_): Skriven i jsx (JS XML) med js biblioteket React (industrinära och relevant på arbetsmarknaden). Användargränssnittet utgörs av en webbsida (lokalt hostad) med interface för inloggning och registrering. Vid inloggning samt registrering skickas anrop med formulärdata till API-ändpunkterna i backend som tar emot POST request data, extraherar relevant information och ger en lämplig response. \n",
    "Huvudsaklig kod finns under: ```./frontend/src/components/login/Login.jsx```"
   ]
  },
  {
   "cell_type": "markdown",
   "metadata": {},
   "source": [
    "### Krav för kursen\n",
    "___\n",
    "#### __Moment 1, HEM1__:\n",
    "_Skapa ditt eget projekt baserat på ditt eget intresse som på något sätt har att göra med att lagra/hämta data._\n",
    "- Förklara funktioner och struktur i ett databashanteringssystem\n",
    "- Diskutera fördelar och nackdelar med olika databasmodeller\n",
    "- Modellera och strukturera data enligt faktiska begränsningar\n",
    "- Presentera självständigt förvärvad nödvändig kunskap muntligt och skriftligt.\n",
    "\n",
    "#### __Moment 2, LABA__:\n",
    "_Teknisk demonstration - visa att du har bekantat dig med koncepten och reflektera över dem._\n",
    "- Använd ett query språk för att formulera frågor och beskriva den matematiska grunden för query\n",
    "- Skriva inbäddade SQL-queries i ett tredje generationens programmeringsspråk\n",
    "- Förklara konsekvenserna av olika begränsningar på databasstrukturen"
   ]
  },
  {
   "cell_type": "markdown",
   "metadata": {},
   "source": [
    "//OBS\n",
    "___\n",
    "_All kod återfinns i foldrarna i denna projektmapp, både för proejktmoment (HEM1) och labbmoment (LABA). Denna fil är främst till för att vägleda och demonstrera projektet översiktligt._"
   ]
  },
  {
   "cell_type": "markdown",
   "metadata": {},
   "source": [
    "### DEMO\n",
    "___\n",
    "För att kunna köra demo krävs följande setup:\n",
    "1. __Installera bibliotek och moduler (dependencies)__\n",
    "    - Navigera till backendmappen och installera nödvändiga bibliotek\n",
    "        - `cd backend`\n",
    "        - `pip install -r requirements.txt`\n",
    "        - Vänta tills installationen är klar, kan ta någon minut. \n",
    "    - Navigera sedan till frontendmappen och utför motsvarande\n",
    "        - `cd ../frontend`\n",
    "        - `npm install`\n",
    "        - Vänta tills installationen är klar (detta installeras lokalt för projektet)\n",
    "2. __Starta Backend servern__\n",
    "    - Kör filen app.py antingen genom att navigera till den och klicka på körknappen alt:\n",
    "        - `cd ..`         #navigera tillbaka till root dir från frontend om så behövs.\n",
    "        - `python3 backend/flask_server/app.py`\n",
    "        - I terminalen ska det synas att servern är igång: ```Running on http://127.0.0.1:5000``` (ignorera varning om development mode)\n",
    "\n",
    "#### Nu demo körbart (så länge servern är igång)\n",
    "\n",
    "3. __Kör riktiga version med frontend användargränssnitt__\n",
    "    - Navigera till frontend och starta klientserver\n",
    "        - `cd frontend`\n",
    "        - `npm run dev`\n",
    "        - Det ska nu synas: `Local:   http://localhost:5173/`\n",
    "        - Följ url och testa att skapa ett konto och sedan logga in. \n"
   ]
  },
  {
   "cell_type": "code",
   "execution_count": 31,
   "metadata": {},
   "outputs": [
    {
     "name": "stdout",
     "output_type": "stream",
     "text": [
      "pd==2.1.0\n"
     ]
    }
   ],
   "source": [
    "# imports\n",
    "import requests\n",
    "import pandas as pd\n",
    "\n",
    "print(f'pd=={pd.__version__}')"
   ]
  },
  {
   "cell_type": "markdown",
   "metadata": {},
   "source": [
    "#### Testa registrering\n",
    "___"
   ]
  },
  {
   "cell_type": "code",
   "execution_count": 33,
   "metadata": {},
   "outputs": [
    {
     "name": "stdout",
     "output_type": "stream",
     "text": [
      "Email already in use\n",
      "200\n"
     ]
    }
   ],
   "source": [
    "# testa ändra registreringsdatan för att lägga till nya användare\n",
    "# Kan endast lägga till användare med unik email\n",
    "\n",
    "url_register = 'http://127.0.0.1:5000/auth/register'\n",
    "\n",
    "register_data = {\n",
    "    'first_name': 'Michael',\n",
    "    'last_name': 'Jackson',\n",
    "    'email': 'jichael@mackson.se',\n",
    "    'password': 'heehee'\n",
    "}\n",
    "\n",
    "response = requests.post(url=url_register, json=register_data)\n",
    "\n",
    "print(response.json()['message'])\n",
    "print(response.status_code)"
   ]
  },
  {
   "cell_type": "markdown",
   "metadata": {},
   "source": [
    "#### Testa inloggning\n",
    "___"
   ]
  },
  {
   "cell_type": "code",
   "execution_count": 34,
   "metadata": {},
   "outputs": [
    {
     "name": "stdout",
     "output_type": "stream",
     "text": [
      "Login success.\n",
      "200\n"
     ]
    }
   ],
   "source": [
    "# registrera först en användare (kom ihåg att minnas lösenordet!)\n",
    "# nu kan du loggan in och börja boka tvättider (se vad som händer om du skriver in fel lösenord eller email)\n",
    "\n",
    "url_login = 'http://127.0.0.1:5000/auth/login'\n",
    "\n",
    "login_data = {\n",
    "    'email': 'jichael@mackson.se',\n",
    "    'password': 'heehee'\n",
    "}\n",
    "\n",
    "response = requests.post(url=url_login, json=login_data)\n",
    "\n",
    "print(response.json()['message'])\n",
    "print(response.status_code)"
   ]
  },
  {
   "cell_type": "markdown",
   "metadata": {},
   "source": [
    "#### SQL embedded i funktioner av tredje generationens programmeringspråk (python)\n",
    "___\n",
    "Exempel:\n",
    "\n",
    "```\n",
    "def check_email_exists(email, con): \n",
    "    sql_query = f\"\"\"\n",
    "    --sql\n",
    "    SELECT EXISTS(SELECT 1 FROM users WHERE email = ?) AS email_exists\n",
    "    ;\n",
    "    \"\"\"\n",
    "    df = pd.read_sql_query(sql=sql_query, con=con, params=(email, ))\n",
    "    emailExists = (df['email_exists'].values[0] == 1)\n",
    "    return emailExists\n",
    "```\n",
    "\n",
    "\n",
    "```\n",
    "def authorize_login(email, password, con):\n",
    "    sql_query = f\"\"\"\n",
    "    --sql\n",
    "    SELECT \n",
    "        [user_id],\n",
    "        [password]\n",
    "    FROM users\n",
    "    WHERE email = ?\n",
    "    ;\n",
    "    \"\"\"\n",
    "    result = pd.read_sql_query(sql_query, con, params=(email,))\n",
    "\n",
    "    user_data = result.values.ravel().tolist()\n",
    "    pw_hash: str = user_data.pop(-1)\n",
    "    authorized = bcrypt.checkpw(password=password.encode('utf-8'), hashed_password=pw_hash.encode('utf-8'))\n",
    "    return authorized\n",
    "```"
   ]
  },
  {
   "cell_type": "markdown",
   "metadata": {},
   "source": [
    "### Diskussion om fördelar och begränsaningar med \"Relational Database Management Systems\" (RDBMS)\n",
    "___\n",
    "\n",
    "__Fördelar__:\n",
    "- Data lagras strukturerade och förutsägbara sätt vilket gör den lätt åtkomlig och unvdiker korrupterad eller skadlig data\n",
    "- Tabulär data kan indexeras vilket gör sökningar (queries) mycket effektiva\n",
    "- Struktureringen gör datan lättolkad för människor som kan behöva arbete med stora mängder data och utvinna insikt i mönster odyl.\n",
    "- Underlättar datamigrering och exportering till andra filformat som följer liknande struktur som .csv el. .xlsx.\n",
    "- Genom unicka nycklar (primary keys & foreign keys) kan relationer mellan olika tabeller sättas upp\n",
    "    - Detta möjliggör för mer komplex funktionalitet (t.ex SQL triggers som skulle radera all relaterad data när en kund tas bort från systemet)\n",
    "\n",
    "_Allt som allt gör det data mer underhållbar, skalbar, förflyttningsbar och tolkbar._\n",
    "\n",
    "__Begränsningar__:\n",
    "- Data av större format som audiofiler, videofiler passar inte alltid bra att lagra i RDBMS, där kan istället data lakes vara lämpligare.\n",
    "- Det tabulära formatet kräver ibland upprepning av värden och kan bli verbosa. Detta kan orsaka onödiga kostander på t.ex cloud plattformar (AWS, GCP, MS Azure).\n",
    "- Stora databaser kan bli komplexa och skapa onödig komplexitet speciellt med många olika relationer mellan tabeller / scheman.\n",
    "- RDBMS är optimerade för read-funktioner och write-funktioner kan därmed vara tidskrävande. \n",
    "- RDBMS är inte optimala för hieraktisk data, där passar JSON formatet bättre. \n"
   ]
  }
 ],
 "metadata": {
  "kernelspec": {
   "display_name": ".venv",
   "language": "python",
   "name": "python3"
  },
  "language_info": {
   "codemirror_mode": {
    "name": "ipython",
    "version": 3
   },
   "file_extension": ".py",
   "mimetype": "text/x-python",
   "name": "python",
   "nbconvert_exporter": "python",
   "pygments_lexer": "ipython3",
   "version": "3.10.4"
  },
  "orig_nbformat": 4
 },
 "nbformat": 4,
 "nbformat_minor": 2
}
